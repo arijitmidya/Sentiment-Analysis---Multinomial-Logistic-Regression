{
 "cells": [
  {
   "cell_type": "markdown",
   "metadata": {
    "id": "VrTvzSyuepmO"
   },
   "source": [
    "# Sentiment Analysis Using Multinomial Logistic Regression\n",
    "\n",
    "In this project, you’ll use the Twitter Tweets Sentiment Dataset for sentiment analysis with multinomial logistic regression to classify tweets as \n",
    "positive, negative, or neutral.\n",
    "\n",
    "The Twitter Tweets Sentiment Dataset comprises 27,481 tweets with 8,582 positive tweets, 7,781 negative tweets, and 11,118 neutral tweets. The corpus \n",
    "comprises the following columns:\n",
    "\n",
    "textID: This is the unique ID of the tweet.\n",
    "\n",
    "text: This is the complete text of the tweet.\n",
    "\n",
    "selected_text: This is a word or phrase selected from the tweet that expresses the sentiment.\n",
    "\n",
    "sentiment: This is the sentiment of the tweet (positive, negative, or neutral).\n",
    "\n",
    "Note: In this project, we’ll only use 6000 tweets, 2000 each from positive, negative, and neutral classes. This is done to keep the model training and\n",
    "testing times manageable. Furthermore, we have dropped the “textID” and “selected_text” columns from the dataset.\n",
    "\n"
   ]
  },
  {
   "cell_type": "markdown",
   "metadata": {
    "id": "q03g2NF58ZV1"
   },
   "source": [
    "## Task 1: Import Libraries\n",
    "\n",
    "Let’s start the project by importing the required libraries. In this project, you’ll make use of several libraries, including string, numpy, pandas,\n",
    "tqdm, and sklearn. We will also use functions to calculate metrics such as confusion matrix and classification report, and to plot results using\n",
    "matplotlib.\n",
    "\n",
    "Import the following libraries to complete this task:\n",
    "\n",
    "1. string: To perform common string operations\n",
    "\n",
    "2. numpy: For numerical computing\n",
    "\n",
    "3. pandas: For data analysis and manipulation\n",
    "\n",
    "4. tqdm: To show a progress bar during model training\n",
    "\n",
    "5. matplotlib: To plot results and visualize metrics and other performance measures\n",
    "\n",
    "6. sklearn.model_selection: To split datasets into train and test sets\n",
    "\n",
    "7. sklearn.feature_extraction.text: To extract features from text data, such as the CountVectorizer, which is used for converting text into a matrix \n",
    "of token counts\n",
    "\n",
    "8. sklearn.metrics: To evaluate the model’s performance, including functions to compute confusion matrix and classification report\n",
    "\n"
   ]
  },
  {
   "cell_type": "code",
   "execution_count": 1,
   "metadata": {
    "executionInfo": {
     "elapsed": 3048,
     "status": "ok",
     "timestamp": 1684441475039,
     "user": {
      "displayName": "Mudasir Yasin",
      "userId": "02181408715486485594"
     },
     "user_tz": -300
    },
    "id": "yI1xmb47mo-C"
   },
   "outputs": [],
   "source": [
    "import string\n",
    "import numpy as np\n",
    "import pandas as pd\n",
    "from tqdm import tqdm\n",
    "import matplotlib.pyplot as plt\n",
    "from sklearn.model_selection import train_test_split\n",
    "from sklearn.feature_extraction.text import CountVectorizer\n",
    "from sklearn.metrics import confusion_matrix, ConfusionMatrixDisplay, classification_report"
   ]
  },
  {
   "cell_type": "markdown",
   "metadata": {
    "id": "biztdTex5VuQ"
   },
   "source": [
    "## Task 2: Load the Dataset\n",
    "\n",
    "In this task, load the dataset file into a pandas DataFrame. The dataset comprises two columns “sentiment,” and “tweet,” The “tweet” column contains\n",
    "the tweet text and the “sentiment” column contains its label (“positive”, “negative”, “neutral”).\n",
    "\n",
    "Follow the given steps to complete this task:\n",
    "\n",
    "1. Read the dataset file named Tweets.csv into the pandas DataFrame.\n",
    "    \n",
    "2. Print the first few rows of the DataFrame to verify the data inside the DataFrame.\n",
    "\n",
    "    "
   ]
  },
  {
   "cell_type": "code",
   "execution_count": 2,
   "metadata": {},
   "outputs": [
    {
     "name": "stdout",
     "output_type": "stream",
     "text": [
      "  sentiment                                              tweet\n",
      "0   neutral  Happy Monday tweeples... hope it wasn`t to har...\n",
      "1  negative  I can`t believe I thought I had a morning shif...\n",
      "2   neutral  So its Superstar Sunday?  is one superstar I k...\n",
      "3  positive   yay i hit 50 subscribers on youtube. go me  lol.\n",
      "4   neutral                               Today = marking *135\n"
     ]
    }
   ],
   "source": [
    "# Load the dataset into a pandas DataFrame\n",
    "df = pd.read_csv('/usercode/Tweets.csv')\n",
    "\n",
    "# Print the DataFrame head\n",
    "print(df.head())"
   ]
  },
  {
   "cell_type": "code",
   "execution_count": 3,
   "metadata": {},
   "outputs": [
    {
     "data": {
      "text/plain": [
       "(6000, 2)"
      ]
     },
     "execution_count": 3,
     "metadata": {},
     "output_type": "execute_result"
    }
   ],
   "source": [
    "df.shape"
   ]
  },
  {
   "cell_type": "markdown",
   "metadata": {
    "id": "bY8pthmS5pjN"
   },
   "source": [
    "## Task 3: Remove Punctuation from Tweets\n",
    "\n",
    "In this task, remove the punctuation characters from the tweets. This will help simplify the data since punctuation marks do not usually carry\n",
    "significant meaning in the context of text analysis. This will also reduce noise in the data and the dimensionality of the feature space, which can\n",
    "lead to a more efficient and effective model.\n",
    "\n",
    "To complete this task, perform the following operations:\n",
    "\n",
    "1. Create a function that takes a string text as input and removes any punctuation characters from it.\n",
    "\n",
    "2. Apply the function to the first column, “tweet,” of the DataFrame.\n",
    "    \n",
    "3. Print the first few rows of the modified DataFrame to verify the change.\n",
    "\n"
   ]
  },
  {
   "cell_type": "code",
   "execution_count": 4,
   "metadata": {
    "colab": {
     "base_uri": "https://localhost:8080/"
    },
    "executionInfo": {
     "elapsed": 9,
     "status": "ok",
     "timestamp": 1684441500641,
     "user": {
      "displayName": "Mudasir Yasin",
      "userId": "02181408715486485594"
     },
     "user_tz": -300
    },
    "id": "C_MQnLQ15sHx",
    "outputId": "b81cfccc-f021-4fda-abe0-91712c76add7"
   },
   "outputs": [
    {
     "name": "stdout",
     "output_type": "stream",
     "text": [
      "  sentiment                                              tweet\n",
      "0   neutral  Happy Monday tweeples hope it wasnt to hard to...\n",
      "1  negative  I cant believe I thought I had a morning shift...\n",
      "2   neutral  So its Superstar Sunday  is one superstar I kn...\n",
      "3  positive     yay i hit 50 subscribers on youtube go me  lol\n",
      "4   neutral                                 Today  marking 135\n"
     ]
    }
   ],
   "source": [
    "# Define a function to remove punctuation from a string\n",
    "def remove_punctuation(text):\n",
    "    return ''.join([char for char in text if char not in string.punctuation])\n",
    "\n",
    "# Apply the function to the first column of the DataFrame\n",
    "df.iloc[:, 1] = df.iloc[:, 1].apply(remove_punctuation)\n",
    "\n",
    "# Print the DataFrame head\n",
    "print(df.head())"
   ]
  },
  {
   "cell_type": "markdown",
   "metadata": {
    "id": "Lq0ccz8N5sTl"
   },
   "source": [
    "## Task 4: Split Tweets into a Bag of Words\n",
    "\n",
    "After removing the punctuation from each tweet, you’ll split each string value in the “tweet” column into a bag of words and update the column with \n",
    "the modified values.\n",
    "\n",
    "Perform the following operations to complete this task:\n",
    "\n",
    "1. Apply a lambda function to the “tweet” column of the DataFrame. The lambda function should split each string in the tweet column into a bag of words.\n",
    "\n",
    "2. Print the first few rows of the modified DataFrame to verify the change.\n"
   ]
  },
  {
   "cell_type": "code",
   "execution_count": 5,
   "metadata": {
    "colab": {
     "base_uri": "https://localhost:8080/"
    },
    "executionInfo": {
     "elapsed": 6,
     "status": "ok",
     "timestamp": 1684441500641,
     "user": {
      "displayName": "Mudasir Yasin",
      "userId": "02181408715486485594"
     },
     "user_tz": -300
    },
    "id": "MI_GuC4l54Gn",
    "outputId": "a16d8bcc-e563-4c62-e6e9-8829333dfac0"
   },
   "outputs": [
    {
     "name": "stdout",
     "output_type": "stream",
     "text": [
      "  sentiment                                              tweet\n",
      "0   neutral  [Happy, Monday, tweeples, hope, it, wasnt, to,...\n",
      "1  negative  [I, cant, believe, I, thought, I, had, a, morn...\n",
      "2   neutral  [So, its, Superstar, Sunday, is, one, supersta...\n",
      "3  positive  [yay, i, hit, 50, subscribers, on, youtube, go...\n",
      "4   neutral                              [Today, marking, 135]\n"
     ]
    }
   ],
   "source": [
    "# Split each tweet into a bag of words\n",
    "df['tweet'] = df['tweet'].apply(lambda x: x.split())\n",
    "\n",
    "# Print the DataFrame head\n",
    "print(df.head())"
   ]
  },
  {
   "cell_type": "markdown",
   "metadata": {
    "id": "jRtUFzHz53na"
   },
   "source": [
    "## Task 5: Create a Vocabulary and Remove Stop Words\n",
    "\n",
    "In this task, we create a vocabulary of all words that have occurred in the tweets. Then remove the stop words from this vocabulary.\n",
    "\n",
    "Stop words are common words in a language (e.g., “the,” “is,” “and,” etc.) that do not carry significant meaning and are often used in various \n",
    "contexts. Removing stop words helps to reduce noise in the text data, as these words are unlikely to contribute much to the overall understanding or\n",
    "sentiment of the tweet. Furthermore, by removing them, you can reduce the size of the feature space and the computational resources required for \n",
    "training and inference. This can lead to faster model training and prediction.\n",
    "\n",
    "Follow the given steps to remove the stop words:\n",
    "\n",
    "1. Count the frequencies of all words that have occurred in the tweets in a dictionary.\n",
    "\n",
    "2. Sort the dictionary by its values in descending order.\n",
    "\n",
    "3. Remove the 100 most frequent words.\n",
    "\n",
    "4. Store the remaining words and their frequencies in a new dictionary.\n",
    "\n",
    "5. Extract the keys from the dictionary and assign them to a list.\n"
   ]
  },
  {
   "cell_type": "code",
   "execution_count": 6,
   "metadata": {
    "executionInfo": {
     "elapsed": 5,
     "status": "ok",
     "timestamp": 1684441500642,
     "user": {
      "displayName": "Mudasir Yasin",
      "userId": "02181408715486485594"
     },
     "user_tz": -300
    },
    "id": "HIB6iC6xsOWS"
   },
   "outputs": [],
   "source": [
    "# Count occurrences of each word\n",
    "vocabulary_dict = {}\n",
    "for row in df['tweet']:\n",
    "    for word in row:    \n",
    "        if word.lower() in vocabulary_dict:\n",
    "            vocabulary_dict[word.lower()] += 1\n",
    "        else:\n",
    "            vocabulary_dict[word.lower()] = 1\n",
    "\n",
    "# Remove the stop words\n",
    "vocabulary_dict = sorted(vocabulary_dict.items(), key = lambda x: x[1], reverse = True)\n",
    "vocabulary_dict = vocabulary_dict[100:]\n",
    "vocabulary_dict = dict(vocabulary_dict)\n",
    "\n",
    "# Extract keys from the dictionary\n",
    "vocabulary = list(vocabulary_dict.keys())"
   ]
  },
  {
   "cell_type": "code",
   "execution_count": 7,
   "metadata": {},
   "outputs": [
    {
     "data": {
      "text/plain": [
       "10563"
      ]
     },
     "execution_count": 7,
     "metadata": {},
     "output_type": "execute_result"
    }
   ],
   "source": [
    "len(vocabulary)"
   ]
  },
  {
   "cell_type": "code",
   "execution_count": 12,
   "metadata": {},
   "outputs": [
    {
     "data": {
      "text/plain": [
       "('sorry', '1', 'no1', 'brinn', 'passtime')"
      ]
     },
     "execution_count": 12,
     "metadata": {},
     "output_type": "execute_result"
    }
   ],
   "source": [
    "vocabulary[0] , vocabulary[100] , vocabulary[1000] , vocabulary[10000] , vocabulary[10562]"
   ]
  },
  {
   "cell_type": "markdown",
   "metadata": {
    "id": "uZkcupGokrU4"
   },
   "source": [
    "## Task 6: Create Feature Vectors\n",
    "\n",
    "Now that you’ve created a vocabulary and removed the stop words, use it to create feature vectors for the tweets. Then convert the resulting \n",
    "sparse matrix to a dense NumPy array. This array will later be used for training and testing the model.\n",
    "\n",
    "Follow the given steps to create feature vectors for tweets:\n",
    "\n",
    "1. For each tweet in the “tweet” column of the DataFrame, convert each word to lowercase and join them back into a string.\n",
    "\n",
    "2. Tokenize the tweets and create feature vectors based on the vocabulary. The resulting tweet vector will be a sparse matrix representation of the \n",
    "tweets.\n",
    "\n",
    "3. Convert the tweet vectors sparse matrix to a dense numpy array. The resulting array will contain the feature vectors for each tweet.\n",
    "                                                                                                                       \n",
    "4. Print the NumPy array.\n",
    "                                                                                                                       "
   ]
  },
  {
   "cell_type": "code",
   "execution_count": 13,
   "metadata": {
    "colab": {
     "base_uri": "https://localhost:8080/"
    },
    "executionInfo": {
     "elapsed": 646,
     "status": "ok",
     "timestamp": 1684441501284,
     "user": {
      "displayName": "Mudasir Yasin",
      "userId": "02181408715486485594"
     },
     "user_tz": -300
    },
    "id": "8SqhYlIeRnpX",
    "outputId": "6e25000b-7e97-452e-d133-ada6fd750ef3"
   },
   "outputs": [
    {
     "name": "stdout",
     "output_type": "stream",
     "text": [
      "[[0 0 0 ... 0 0 0]\n",
      " [0 0 0 ... 0 0 0]\n",
      " [0 0 0 ... 0 0 0]\n",
      " ...\n",
      " [0 0 0 ... 1 1 0]\n",
      " [0 0 0 ... 0 0 0]\n",
      " [0 0 0 ... 0 0 1]]\n"
     ]
    }
   ],
   "source": [
    "# Extract tweets and convert to lowercase\n",
    "tweets = [' '.join([word.lower() for word in tweet]) for tweet in df['tweet']]\n",
    "\n",
    "# Create the CountVectorizer with the vocabulary\n",
    "vectorizer = CountVectorizer(vocabulary=vocabulary)\n",
    "\n",
    "# Fit and transform the tweets into feature vectors\n",
    "tweet_vectors = vectorizer.fit_transform(tweets)\n",
    "\n",
    "# Convert tweet_vectors to NumPy array\n",
    "X = tweet_vectors.toarray()\n",
    "\n",
    "# Print the NumPy array\n",
    "print(X)"
   ]
  },
  {
   "cell_type": "markdown",
   "metadata": {
    "id": "lnjklE3-6C7N"
   },
   "source": [
    "## Task 7: Map and Extract the Sentiment Column\n",
    "\n",
    "In this task, map the sentiment labels in the “sentiment” column of the DataFrame to numerical values. Then extract the mapped values into a \n",
    "NumPy array.\n",
    "\n",
    "This mapping of string labels to numerical values ensures compatibility with the model and allows for effective processing. It also enables the use of\n",
    "categorical encoding techniques, such as one-hot encoding, that you’ll use later in this project.\n",
    "\n",
    "Follow the given steps to complete this task:\n",
    "\n",
    "1. Replace the original sentiment labels in the “sentiment” column with their corresponding integer values \n",
    "   (2 for positive, 1 for neutral, and 0 for negative).\n",
    "\n",
    "2. Extract the values from the modified “sentiment” column into a NumPy array.\n",
    "\n"
   ]
  },
  {
   "cell_type": "code",
   "execution_count": 14,
   "metadata": {
    "executionInfo": {
     "elapsed": 7,
     "status": "ok",
     "timestamp": 1684441501284,
     "user": {
      "displayName": "Mudasir Yasin",
      "userId": "02181408715486485594"
     },
     "user_tz": -300
    },
    "id": "k5QZH2yMnTsp"
   },
   "outputs": [],
   "source": [
    "# Define the mapping dictionary\n",
    "mapping = {'positive': 2, 'neutral': 1, 'negative': 0}\n",
    "\n",
    "# Map the values in the column using the mapping dictionary\n",
    "df['sentiment'] = df['sentiment'].map(mapping)\n",
    "\n",
    "# Extract sentiment from the DataFrame\n",
    "y = df['sentiment'].values"
   ]
  },
  {
   "cell_type": "code",
   "execution_count": 15,
   "metadata": {},
   "outputs": [
    {
     "data": {
      "text/plain": [
       "array([1, 0, 1, ..., 0, 2, 2])"
      ]
     },
     "execution_count": 15,
     "metadata": {},
     "output_type": "execute_result"
    }
   ],
   "source": [
    "y"
   ]
  },
  {
   "cell_type": "markdown",
   "metadata": {
    "id": "exjc7yQ05cyI"
   },
   "source": [
    "## Task 8: Split the Dataset into Training and Test Sets\n",
    "\n",
    "In this task, split the feature vectors and the corresponding sentiment labels into training and testing subsets in an 80:20 ratio, with \n",
    "stratified sampling to preserve the distribution of sentiment labels. The training dataset will be used to train the model, and the testing dataset\n",
    "will be used to evaluate the model’s performance after training is complete as an independent evaluation set.\n",
    "\n",
    "Stratified sampling ensures that the splitting process maintains the same proportion of sentiment labels in training and testing subsets. \n",
    "This is useful when dealing with imbalanced datasets to ensure a representative distribution of the classes in the subsets.\n",
    "\n",
    "To complete this task, perform the following operations:\n",
    "\n",
    "1. Split the feature vectors and the array of corresponding sentiment labels into training and testing subsets in a ratio of 80:20.\n",
    "\n",
    "2. Print the shapes of the resulting subsets to verify the split.\n"
   ]
  },
  {
   "cell_type": "code",
   "execution_count": 16,
   "metadata": {
    "colab": {
     "base_uri": "https://localhost:8080/"
    },
    "executionInfo": {
     "elapsed": 7,
     "status": "ok",
     "timestamp": 1684441501285,
     "user": {
      "displayName": "Mudasir Yasin",
      "userId": "02181408715486485594"
     },
     "user_tz": -300
    },
    "id": "hd6bfOQ75gM5",
    "outputId": "a3e0073c-8e4e-4fbd-94ed-913751f418ae"
   },
   "outputs": [
    {
     "name": "stdout",
     "output_type": "stream",
     "text": [
      "(4800, 10563)\n",
      "(1200, 10563)\n",
      "(4800,)\n",
      "(1200,)\n"
     ]
    }
   ],
   "source": [
    "# Split the data into training and testing subsets with stratified sampling\n",
    "X_train, X_test, y_train, y_test = train_test_split(X, y, test_size=0.2, stratify=y, random_state=42)\n",
    "\n",
    "# Print the shapes of resulting subsets\n",
    "print(X_train.shape)\n",
    "print(X_test.shape)\n",
    "print(y_train.shape)\n",
    "print(y_test.shape)"
   ]
  },
  {
   "cell_type": "markdown",
   "metadata": {
    "id": "pneAG9N5xuuX"
   },
   "source": [
    "## Task 9: Define the Weights Initialization Function\n",
    "\n",
    "In this task, initialize the weights for the model using the number of features and classes.\n",
    "\n",
    "To complete this task, create a function initialize_weights() that takes two parameters: n_features and n_classes. Inside the function,\n",
    "do the following:\n",
    "\n",
    "1. Create a NumPy array of zeros with a shape of (n_features, n_classes), where n_features represents the number of features and n_classes represents\n",
    "the number of classes.\n",
    "    \n",
    "2. Return the created array, which serves as the initialized weights.\n"
   ]
  },
  {
   "cell_type": "code",
   "execution_count": 17,
   "metadata": {
    "executionInfo": {
     "elapsed": 4,
     "status": "ok",
     "timestamp": 1684441501285,
     "user": {
      "displayName": "Mudasir Yasin",
      "userId": "02181408715486485594"
     },
     "user_tz": -300
    },
    "id": "iGPr6BtO3gBi"
   },
   "outputs": [],
   "source": [
    "def initialize_weights(n_features, n_classes):\n",
    "    return np.zeros((n_features, n_classes))"
   ]
  },
  {
   "cell_type": "markdown",
   "metadata": {},
   "source": [
    "## Task 10: Define One-Hot Encoding Function\n",
    "\n",
    "In this task, write the one_hot_encode() function to convert an array of class labels y into a one-hot encoded representation. The resulting array\n",
    "will have dimensions (n_samples, n_classes), where each row will represent a sample and each column will represent a class. The elements corresponding\n",
    "to the class labels in y will be marked as 1, while the rest will be 0.\n",
    "\n",
    "To complete this task, create a function one_hot_encode() that takes two parameters: y and n_classes. Here, y is the array of class labels and\n",
    "n_classes represents the number of classes. Inside the function, do the following:\n",
    "\n",
    "1. Create a NumPy array y_encoded, with a shape of (n_samples, n_classes), filled with zeros, where n_samples represents the number of samples.\n",
    "\n",
    "2. Perform one-hot encoding for each sample by marking the corresponding class position with 1 and leaving the rest as 0.\n",
    "\n",
    "3. Return the y_encoded array, representing the one-hot encoded version of the input array y.\n",
    "\n"
   ]
  },
  {
   "cell_type": "code",
   "execution_count": 18,
   "metadata": {},
   "outputs": [],
   "source": [
    "def one_hot_encode(y, n_classes):\n",
    "    n_samples = len(y)\n",
    "    y_encoded = np.zeros((n_samples, n_classes))\n",
    "    for i in range(n_samples):\n",
    "        y_encoded[i, y[i]] = 1\n",
    "    return y_encoded"
   ]
  },
  {
   "cell_type": "markdown",
   "metadata": {},
   "source": [
    "## Task 11: Define the Softmax Function\n",
    "\n",
    "In this task, write the softmax() function that takes an input array x, computes the softmax activation for each element, and returns the resulting\n",
    "array of normalized values. The softmax function is commonly used in multiclass classification problems to convert raw scores or logits into\n",
    "probabilities representing class probabilities.\n",
    "\n",
    "To complete this task, create a function softmax() that applies the softmax activation function to an input array x and returns the resulting array \n",
    "of normalized values, representing the output of the softmax function.\n"
   ]
  },
  {
   "cell_type": "code",
   "execution_count": 19,
   "metadata": {},
   "outputs": [],
   "source": [
    "def softmax(x):\n",
    "    exp = np.exp(x)\n",
    "    return exp / np.sum(exp, axis=1, keepdims=True)"
   ]
  },
  {
   "cell_type": "markdown",
   "metadata": {},
   "source": [
    "## Task 12: Define the Gradient Descent Function\n",
    "\n",
    "In this task, implement the gradient_descent() function to apply gradient descent to update the weights and the bias of our model based on the \n",
    "feature matrix X, the one-hot encoded target values y_encoded, the initial weights, the initial bias, and the learning rate.\n",
    "\n",
    "To complete this task, create a function gradient_descent() that takes five parameters: X, y_encoded, weights, bias, and learning_rate. Inside the\n",
    "function, do the following:\n",
    "\n",
    "1. Compute the scores by performing matrix multiplication between the feature matrix X and the weights matrix, and add the bias term. Store the result in \n",
    "the scores array.\n",
    "    \n",
    "2. Calculate the probabilities by applying the softmax function to the scores array.\n",
    "\n",
    "3. Compute the error by subtracting the one-hot encoded target values y_encoded from the predicted probabilities.\n",
    "\n",
    "4. Compute the gradient of the weights by multiplying the transpose of the feature matrix X with the error and dividing it by the number of samples.\n",
    "\n",
    "5. Compute the gradient of the bias by summing the error along the first axis and dividing it by the number of samples.\n",
    "\n",
    "6. Update the weights by subtracting the learning rate multiplied by the gradient of the weights.\n",
    "    \n",
    "7. Update the bias by subtracting the learning rate multiplied by the bias gradient.\n",
    "\n",
    "8. Return the updated weights and bias as the output of the function.\n"
   ]
  },
  {
   "cell_type": "code",
   "execution_count": 20,
   "metadata": {},
   "outputs": [],
   "source": [
    "def gradient_descent(X, y_encoded, weights, bias, learning_rate):\n",
    "    n_samples = len(X)\n",
    "    scores = np.dot(X, weights) + bias\n",
    "    probabilities = softmax(scores)\n",
    "    error = probabilities - y_encoded\n",
    "    dw = np.dot(X.T, error) / n_samples\n",
    "    db = np.sum(error, axis=0) / n_samples\n",
    "    weights -= learning_rate * dw\n",
    "    bias -= learning_rate * db\n",
    "    return weights, bias"
   ]
  },
  {
   "cell_type": "markdown",
   "metadata": {},
   "source": [
    "## Task 13: Define the Training Function\n",
    "\n",
    "In this task, write the train_multinomial_logistic_regression() function to train the multinomial logistic regression model by performing gradient \n",
    "descent updates on the weights and bias.\n",
    "\n",
    "To complete this task, create a function, train_multinomial_logistic_regression(), that takes four parameters: X (the input features),\n",
    "y (the target variable), learning rate, and maximum iterations. Inside the function, do the following:\n",
    "\n",
    "1. Initialize the weights matrix by calling the initialize_weights function, passing n_features and n_classes as parameters.\n",
    "\n",
    "2. Initialize the bias vector as an array of zeros with a length equal to the number of classes.\n",
    "\n",
    "3. Encode the target array y into a one-hot encoded representation using the one_hot_encode function, passing y and n_classes as parameters. \n",
    "Store the resulting encoded array as y_encoded.\n",
    "\n",
    "4. Update the weights and bias by calling the gradient_descent function max_iterations times. Pass the feature matrix X, the one-hot encoded \n",
    "target values y_encoded, the weights, the bias, and the learning rate as parameters.\n",
    "\n",
    "5. Return the updated weights and bias as the output of the function.\n",
    "\n"
   ]
  },
  {
   "cell_type": "code",
   "execution_count": 21,
   "metadata": {},
   "outputs": [],
   "source": [
    "def train_multinomial_logistic_regression(X, y, learning_rate, max_iterations):\n",
    "    n_samples, n_features = np.shape(X)\n",
    "    n_classes = len(np.unique(y))\n",
    "    \n",
    "    weights = initialize_weights(n_features, n_classes)\n",
    "    bias = np.zeros(n_classes)\n",
    "    y_encoded = one_hot_encode(y, n_classes)\n",
    "    \n",
    "    for _ in tqdm(range(max_iterations), desc=\"Training\", unit=\"iteration\"):\n",
    "        weights, bias = gradient_descent(X, y_encoded, weights, bias, learning_rate)\n",
    "    \n",
    "    return weights, bias"
   ]
  },
  {
   "cell_type": "markdown",
   "metadata": {},
   "source": [
    "## Task 14: Define the Prediction Function\n",
    "\n",
    "In this task, write the predict() function that takes a feature matrix X, the weights, and the bias of our multinomial logistic regression model.\n",
    "It’ll compute the scores and probabilities for each sample and return the predicted class labels based on the maximum probability for each sample.\n",
    "\n",
    "To complete this task, create a function, predict(), that takes three parameters: X, weights, and bias to make predictions using the trained\n",
    "multinomial logistic regression model. Inside the function, do the following:\n",
    "\n",
    "1. Compute the scores by performing matrix multiplication between the feature matrix X and the weights matrix, and add the bias term. Store the result \n",
    "in the scores array.\n",
    "    \n",
    "2. Calculate the probabilities by applying the softmax() function to the scores array.\n",
    "    \n",
    "3. Find the index of the maximum probability for each sample along the second axis. This corresponds to the predicted class label for each sample.\n",
    "                                                                                                                                 \n",
    "4. Return the array of predicted class labels.\n",
    "                                                                                                                                 "
   ]
  },
  {
   "cell_type": "code",
   "execution_count": 22,
   "metadata": {},
   "outputs": [],
   "source": [
    "def predict(X, weights, bias):\n",
    "    scores = np.dot(X, weights) + bias\n",
    "    probabilities = softmax(scores)\n",
    "    return np.argmax(probabilities, axis=1)"
   ]
  },
  {
   "cell_type": "markdown",
   "metadata": {
    "id": "dAnD-i5u0RXb"
   },
   "source": [
    "## Task 15: Train the Model\n",
    "\n",
    "Now that you’ve written all the functions to implement multinomial logistic regression, it is time to train the model on the training data using a \n",
    "specified learning rate and a maximum number of iterations. The resulting trained weights and bias will be stored and used to make predictions \n",
    "using the test data.\n",
    "\n",
    "To complete this task, invoke the train_multinomial_logistic_regression() function to train the multinomial logistic regression model using the\n",
    "training data X_train and y_train. Also, pass the learning rate and a maximum number of iterations as parameters.\n"
   ]
  },
  {
   "cell_type": "code",
   "execution_count": 23,
   "metadata": {
    "colab": {
     "background_save": true
    },
    "id": "BdYeyN6W3Rvd"
   },
   "outputs": [
    {
     "name": "stderr",
     "output_type": "stream",
     "text": [
      "Training:   0%|          | 0/500 [00:00<?, ?iteration/s]\r",
      "Training:   0%|          | 1/500 [00:00<06:08,  1.35iteration/s]\r",
      "Training:   0%|          | 2/500 [00:01<05:58,  1.39iteration/s]\r",
      "Training:   1%|          | 3/500 [00:02<05:58,  1.39iteration/s]\r",
      "Training:   1%|          | 4/500 [00:02<05:54,  1.40iteration/s]\r",
      "Training:   1%|          | 5/500 [00:03<05:52,  1.40iteration/s]\r",
      "Training:   1%|          | 6/500 [00:04<05:51,  1.41iteration/s]\r",
      "Training:   1%|▏         | 7/500 [00:05<05:50,  1.41iteration/s]\r",
      "Training:   2%|▏         | 8/500 [00:05<05:48,  1.41iteration/s]\r",
      "Training:   2%|▏         | 9/500 [00:06<05:46,  1.42iteration/s]\r",
      "Training:   2%|▏         | 10/500 [00:07<05:47,  1.41iteration/s]\r",
      "Training:   2%|▏         | 11/500 [00:07<05:46,  1.41iteration/s]\r",
      "Training:   2%|▏         | 12/500 [00:08<05:46,  1.41iteration/s]\r",
      "Training:   3%|▎         | 13/500 [00:09<05:44,  1.41iteration/s]\r",
      "Training:   3%|▎         | 14/500 [00:09<05:44,  1.41iteration/s]\r",
      "Training:   3%|▎         | 15/500 [00:10<05:43,  1.41iteration/s]\r",
      "Training:   3%|▎         | 16/500 [00:11<05:44,  1.40iteration/s]\r",
      "Training:   3%|▎         | 17/500 [00:12<05:41,  1.41iteration/s]\r",
      "Training:   4%|▎         | 18/500 [00:12<05:40,  1.41iteration/s]\r",
      "Training:   4%|▍         | 19/500 [00:13<05:39,  1.42iteration/s]\r",
      "Training:   4%|▍         | 20/500 [00:14<05:38,  1.42iteration/s]\r",
      "Training:   4%|▍         | 21/500 [00:14<05:36,  1.42iteration/s]\r",
      "Training:   4%|▍         | 22/500 [00:15<05:45,  1.38iteration/s]\r",
      "Training:   5%|▍         | 23/500 [00:16<06:33,  1.21iteration/s]\r",
      "Training:   5%|▍         | 24/500 [00:17<06:23,  1.24iteration/s]\r",
      "Training:   5%|▌         | 25/500 [00:18<06:07,  1.29iteration/s]\r",
      "Training:   5%|▌         | 26/500 [00:18<05:56,  1.33iteration/s]\r",
      "Training:   5%|▌         | 27/500 [00:19<05:48,  1.36iteration/s]\r",
      "Training:   6%|▌         | 28/500 [00:20<05:43,  1.37iteration/s]\r",
      "Training:   6%|▌         | 29/500 [00:20<05:39,  1.39iteration/s]\r",
      "Training:   6%|▌         | 30/500 [00:21<05:36,  1.40iteration/s]\r",
      "Training:   6%|▌         | 31/500 [00:22<05:34,  1.40iteration/s]\r",
      "Training:   6%|▋         | 32/500 [00:23<05:33,  1.41iteration/s]\r",
      "Training:   7%|▋         | 33/500 [00:23<05:31,  1.41iteration/s]\r",
      "Training:   7%|▋         | 34/500 [00:24<05:29,  1.42iteration/s]\r",
      "Training:   7%|▋         | 35/500 [00:25<05:28,  1.42iteration/s]\r",
      "Training:   7%|▋         | 36/500 [00:25<05:27,  1.42iteration/s]\r",
      "Training:   7%|▋         | 37/500 [00:26<05:26,  1.42iteration/s]\r",
      "Training:   8%|▊         | 38/500 [00:27<05:26,  1.41iteration/s]\r",
      "Training:   8%|▊         | 39/500 [00:28<05:25,  1.42iteration/s]\r",
      "Training:   8%|▊         | 40/500 [00:28<05:23,  1.42iteration/s]\r",
      "Training:   8%|▊         | 41/500 [00:29<05:25,  1.41iteration/s]\r",
      "Training:   8%|▊         | 42/500 [00:30<05:23,  1.42iteration/s]\r",
      "Training:   9%|▊         | 43/500 [00:30<05:21,  1.42iteration/s]\r",
      "Training:   9%|▉         | 44/500 [00:31<05:20,  1.42iteration/s]\r",
      "Training:   9%|▉         | 45/500 [00:32<05:20,  1.42iteration/s]\r",
      "Training:   9%|▉         | 46/500 [00:32<05:19,  1.42iteration/s]\r",
      "Training:   9%|▉         | 47/500 [00:33<05:17,  1.42iteration/s]\r",
      "Training:  10%|▉         | 48/500 [00:34<05:16,  1.43iteration/s]\r",
      "Training:  10%|▉         | 49/500 [00:35<05:14,  1.43iteration/s]\r",
      "Training:  10%|█         | 50/500 [00:35<05:14,  1.43iteration/s]\r",
      "Training:  10%|█         | 51/500 [00:36<05:14,  1.43iteration/s]\r",
      "Training:  10%|█         | 52/500 [00:37<05:15,  1.42iteration/s]\r",
      "Training:  11%|█         | 53/500 [00:37<05:15,  1.42iteration/s]\r",
      "Training:  11%|█         | 54/500 [00:38<05:13,  1.42iteration/s]\r",
      "Training:  11%|█         | 55/500 [00:39<05:11,  1.43iteration/s]\r",
      "Training:  11%|█         | 56/500 [00:39<05:11,  1.43iteration/s]\r",
      "Training:  11%|█▏        | 57/500 [00:40<05:10,  1.42iteration/s]\r",
      "Training:  12%|█▏        | 58/500 [00:41<05:10,  1.43iteration/s]\r",
      "Training:  12%|█▏        | 59/500 [00:42<05:09,  1.42iteration/s]\r",
      "Training:  12%|█▏        | 60/500 [00:42<05:09,  1.42iteration/s]\r",
      "Training:  12%|█▏        | 61/500 [00:43<05:08,  1.42iteration/s]\r",
      "Training:  12%|█▏        | 62/500 [00:44<05:07,  1.43iteration/s]\r",
      "Training:  13%|█▎        | 63/500 [00:44<05:06,  1.43iteration/s]\r",
      "Training:  13%|█▎        | 64/500 [00:45<05:07,  1.42iteration/s]\r",
      "Training:  13%|█▎        | 65/500 [00:46<05:06,  1.42iteration/s]\r",
      "Training:  13%|█▎        | 66/500 [00:47<05:05,  1.42iteration/s]\r",
      "Training:  13%|█▎        | 67/500 [00:47<05:05,  1.42iteration/s]\r",
      "Training:  14%|█▎        | 68/500 [00:48<05:04,  1.42iteration/s]\r",
      "Training:  14%|█▍        | 69/500 [00:49<05:03,  1.42iteration/s]\r",
      "Training:  14%|█▍        | 70/500 [00:49<05:01,  1.42iteration/s]\r",
      "Training:  14%|█▍        | 71/500 [00:50<05:01,  1.42iteration/s]\r",
      "Training:  14%|█▍        | 72/500 [00:51<05:01,  1.42iteration/s]\r",
      "Training:  15%|█▍        | 73/500 [00:51<05:00,  1.42iteration/s]\r",
      "Training:  15%|█▍        | 74/500 [00:52<04:59,  1.42iteration/s]\r",
      "Training:  15%|█▌        | 75/500 [00:53<04:58,  1.42iteration/s]\r",
      "Training:  15%|█▌        | 76/500 [00:54<04:58,  1.42iteration/s]\r",
      "Training:  15%|█▌        | 77/500 [00:54<04:55,  1.43iteration/s]\r",
      "Training:  16%|█▌        | 78/500 [00:55<04:55,  1.43iteration/s]\r",
      "Training:  16%|█▌        | 79/500 [00:56<04:54,  1.43iteration/s]\r",
      "Training:  16%|█▌        | 80/500 [00:56<04:54,  1.43iteration/s]\r",
      "Training:  16%|█▌        | 81/500 [00:57<04:55,  1.42iteration/s]\r",
      "Training:  16%|█▋        | 82/500 [00:58<04:54,  1.42iteration/s]\r",
      "Training:  17%|█▋        | 83/500 [00:58<04:53,  1.42iteration/s]\r",
      "Training:  17%|█▋        | 84/500 [00:59<04:54,  1.41iteration/s]\r",
      "Training:  17%|█▋        | 85/500 [01:00<04:53,  1.41iteration/s]\r",
      "Training:  17%|█▋        | 86/500 [01:01<04:52,  1.41iteration/s]\r",
      "Training:  17%|█▋        | 87/500 [01:01<04:51,  1.42iteration/s]\r",
      "Training:  18%|█▊        | 88/500 [01:02<04:50,  1.42iteration/s]\r",
      "Training:  18%|█▊        | 89/500 [01:03<04:49,  1.42iteration/s]\r",
      "Training:  18%|█▊        | 90/500 [01:03<04:48,  1.42iteration/s]\r",
      "Training:  18%|█▊        | 91/500 [01:04<04:47,  1.42iteration/s]\r",
      "Training:  18%|█▊        | 92/500 [01:05<04:45,  1.43iteration/s]\r",
      "Training:  19%|█▊        | 93/500 [01:06<04:44,  1.43iteration/s]\r",
      "Training:  19%|█▉        | 94/500 [01:06<04:44,  1.43iteration/s]\r",
      "Training:  19%|█▉        | 95/500 [01:07<04:44,  1.42iteration/s]\r",
      "Training:  19%|█▉        | 96/500 [01:08<04:43,  1.42iteration/s]\r",
      "Training:  19%|█▉        | 97/500 [01:08<04:43,  1.42iteration/s]\r",
      "Training:  20%|█▉        | 98/500 [01:09<04:41,  1.43iteration/s]\r",
      "Training:  20%|█▉        | 99/500 [01:10<04:40,  1.43iteration/s]\r",
      "Training:  20%|██        | 100/500 [01:10<04:39,  1.43iteration/s]\r",
      "Training:  20%|██        | 101/500 [01:11<04:38,  1.43iteration/s]\r",
      "Training:  20%|██        | 102/500 [01:12<04:38,  1.43iteration/s]\r",
      "Training:  21%|██        | 103/500 [01:13<04:37,  1.43iteration/s]\r",
      "Training:  21%|██        | 104/500 [01:13<04:37,  1.43iteration/s]\r",
      "Training:  21%|██        | 105/500 [01:14<04:39,  1.41iteration/s]\r",
      "Training:  21%|██        | 106/500 [01:15<04:37,  1.42iteration/s]\r",
      "Training:  21%|██▏       | 107/500 [01:15<04:37,  1.42iteration/s]\r",
      "Training:  22%|██▏       | 108/500 [01:16<04:36,  1.42iteration/s]\r",
      "Training:  22%|██▏       | 109/500 [01:17<04:37,  1.41iteration/s]\r",
      "Training:  22%|██▏       | 110/500 [01:17<04:36,  1.41iteration/s]\r",
      "Training:  22%|██▏       | 111/500 [01:18<04:34,  1.42iteration/s]\r",
      "Training:  22%|██▏       | 112/500 [01:19<04:34,  1.41iteration/s]\r",
      "Training:  23%|██▎       | 113/500 [01:20<04:32,  1.42iteration/s]\r",
      "Training:  23%|██▎       | 114/500 [01:20<04:31,  1.42iteration/s]\r",
      "Training:  23%|██▎       | 115/500 [01:21<04:31,  1.42iteration/s]\r",
      "Training:  23%|██▎       | 116/500 [01:22<04:31,  1.41iteration/s]\r",
      "Training:  23%|██▎       | 117/500 [01:22<04:30,  1.42iteration/s]\r",
      "Training:  24%|██▎       | 118/500 [01:23<04:29,  1.42iteration/s]\r",
      "Training:  24%|██▍       | 119/500 [01:24<04:28,  1.42iteration/s]\r",
      "Training:  24%|██▍       | 120/500 [01:25<04:27,  1.42iteration/s]\r",
      "Training:  24%|██▍       | 121/500 [01:25<04:25,  1.43iteration/s]\r",
      "Training:  24%|██▍       | 122/500 [01:26<04:25,  1.42iteration/s]\r",
      "Training:  25%|██▍       | 123/500 [01:27<04:25,  1.42iteration/s]\r",
      "Training:  25%|██▍       | 124/500 [01:27<04:24,  1.42iteration/s]\r",
      "Training:  25%|██▌       | 125/500 [01:28<04:24,  1.42iteration/s]\r",
      "Training:  25%|██▌       | 126/500 [01:29<04:23,  1.42iteration/s]\r",
      "Training:  25%|██▌       | 127/500 [01:29<04:21,  1.43iteration/s]\r",
      "Training:  26%|██▌       | 128/500 [01:30<04:20,  1.43iteration/s]\r",
      "Training:  26%|██▌       | 129/500 [01:31<04:19,  1.43iteration/s]\r",
      "Training:  26%|██▌       | 130/500 [01:32<04:18,  1.43iteration/s]\r",
      "Training:  26%|██▌       | 131/500 [01:32<04:17,  1.43iteration/s]\r",
      "Training:  26%|██▋       | 132/500 [01:33<04:17,  1.43iteration/s]\r",
      "Training:  27%|██▋       | 133/500 [01:34<04:16,  1.43iteration/s]\r",
      "Training:  27%|██▋       | 134/500 [01:34<04:15,  1.43iteration/s]\r",
      "Training:  27%|██▋       | 135/500 [01:35<04:14,  1.43iteration/s]\r",
      "Training:  27%|██▋       | 136/500 [01:36<04:14,  1.43iteration/s]\r",
      "Training:  27%|██▋       | 137/500 [01:36<04:15,  1.42iteration/s]\r",
      "Training:  28%|██▊       | 138/500 [01:37<04:14,  1.42iteration/s]\r",
      "Training:  28%|██▊       | 139/500 [01:38<04:14,  1.42iteration/s]\r",
      "Training:  28%|██▊       | 140/500 [01:39<04:13,  1.42iteration/s]\r",
      "Training:  28%|██▊       | 141/500 [01:39<04:14,  1.41iteration/s]\r",
      "Training:  28%|██▊       | 142/500 [01:40<04:14,  1.40iteration/s]\r",
      "Training:  29%|██▊       | 143/500 [01:41<04:15,  1.40iteration/s]\r",
      "Training:  29%|██▉       | 144/500 [01:41<04:14,  1.40iteration/s]\r",
      "Training:  29%|██▉       | 145/500 [01:42<04:14,  1.39iteration/s]\r",
      "Training:  29%|██▉       | 146/500 [01:43<04:13,  1.39iteration/s]\r",
      "Training:  29%|██▉       | 147/500 [01:44<04:12,  1.40iteration/s]\r",
      "Training:  30%|██▉       | 148/500 [01:44<04:13,  1.39iteration/s]\r",
      "Training:  30%|██▉       | 149/500 [01:45<04:12,  1.39iteration/s]\r",
      "Training:  30%|███       | 150/500 [01:46<04:10,  1.40iteration/s]\r",
      "Training:  30%|███       | 151/500 [01:46<04:07,  1.41iteration/s]\r",
      "Training:  30%|███       | 152/500 [01:47<04:07,  1.41iteration/s]\r",
      "Training:  31%|███       | 153/500 [01:48<04:05,  1.41iteration/s]\r",
      "Training:  31%|███       | 154/500 [01:49<04:04,  1.41iteration/s]\r",
      "Training:  31%|███       | 155/500 [01:49<04:03,  1.42iteration/s]\r",
      "Training:  31%|███       | 156/500 [01:50<04:02,  1.42iteration/s]\r",
      "Training:  31%|███▏      | 157/500 [01:51<04:02,  1.41iteration/s]\r",
      "Training:  32%|███▏      | 158/500 [01:51<04:01,  1.41iteration/s]\r",
      "Training:  32%|███▏      | 159/500 [01:52<04:01,  1.41iteration/s]\r",
      "Training:  32%|███▏      | 160/500 [01:53<03:59,  1.42iteration/s]\r",
      "Training:  32%|███▏      | 161/500 [01:53<03:58,  1.42iteration/s]\r",
      "Training:  32%|███▏      | 162/500 [01:54<03:58,  1.42iteration/s]\r",
      "Training:  33%|███▎      | 163/500 [01:55<03:57,  1.42iteration/s]\r",
      "Training:  33%|███▎      | 164/500 [01:56<03:56,  1.42iteration/s]\r",
      "Training:  33%|███▎      | 165/500 [01:56<03:55,  1.42iteration/s]\r",
      "Training:  33%|███▎      | 166/500 [01:57<03:53,  1.43iteration/s]\r",
      "Training:  33%|███▎      | 167/500 [01:58<03:52,  1.43iteration/s]\r",
      "Training:  34%|███▎      | 168/500 [01:58<03:51,  1.43iteration/s]\r",
      "Training:  34%|███▍      | 169/500 [01:59<03:50,  1.43iteration/s]\r",
      "Training:  34%|███▍      | 170/500 [02:00<03:49,  1.44iteration/s]\r",
      "Training:  34%|███▍      | 171/500 [02:00<03:48,  1.44iteration/s]\r",
      "Training:  34%|███▍      | 172/500 [02:01<03:48,  1.44iteration/s]\r",
      "Training:  35%|███▍      | 173/500 [02:02<03:48,  1.43iteration/s]\r",
      "Training:  35%|███▍      | 174/500 [02:03<03:47,  1.43iteration/s]\r",
      "Training:  35%|███▌      | 175/500 [02:03<03:46,  1.43iteration/s]\r",
      "Training:  35%|███▌      | 176/500 [02:04<03:45,  1.43iteration/s]\r",
      "Training:  35%|███▌      | 177/500 [02:05<03:45,  1.44iteration/s]\r",
      "Training:  36%|███▌      | 178/500 [02:05<03:43,  1.44iteration/s]\r",
      "Training:  36%|███▌      | 179/500 [02:06<03:42,  1.44iteration/s]\r",
      "Training:  36%|███▌      | 180/500 [02:07<03:43,  1.43iteration/s]\r",
      "Training:  36%|███▌      | 181/500 [02:07<03:42,  1.44iteration/s]\r",
      "Training:  36%|███▋      | 182/500 [02:08<03:41,  1.44iteration/s]\r",
      "Training:  37%|███▋      | 183/500 [02:09<03:40,  1.44iteration/s]\r",
      "Training:  37%|███▋      | 184/500 [02:10<03:40,  1.43iteration/s]\r",
      "Training:  37%|███▋      | 185/500 [02:10<03:40,  1.43iteration/s]\r",
      "Training:  37%|███▋      | 186/500 [02:11<03:40,  1.43iteration/s]\r",
      "Training:  37%|███▋      | 187/500 [02:12<03:39,  1.43iteration/s]\r",
      "Training:  38%|███▊      | 188/500 [02:12<03:38,  1.43iteration/s]\r",
      "Training:  38%|███▊      | 189/500 [02:13<03:36,  1.43iteration/s]\r",
      "Training:  38%|███▊      | 190/500 [02:14<03:38,  1.42iteration/s]\r",
      "Training:  38%|███▊      | 191/500 [02:14<03:36,  1.43iteration/s]\r",
      "Training:  38%|███▊      | 192/500 [02:15<03:37,  1.42iteration/s]\r",
      "Training:  39%|███▊      | 193/500 [02:16<03:36,  1.42iteration/s]\r",
      "Training:  39%|███▉      | 194/500 [02:17<03:35,  1.42iteration/s]\r",
      "Training:  39%|███▉      | 195/500 [02:17<03:34,  1.42iteration/s]\r",
      "Training:  39%|███▉      | 196/500 [02:18<03:33,  1.42iteration/s]\r",
      "Training:  39%|███▉      | 197/500 [02:19<03:32,  1.43iteration/s]\r",
      "Training:  40%|███▉      | 198/500 [02:19<03:31,  1.43iteration/s]\r",
      "Training:  40%|███▉      | 199/500 [02:20<03:30,  1.43iteration/s]\r",
      "Training:  40%|████      | 200/500 [02:21<03:29,  1.43iteration/s]\r",
      "Training:  40%|████      | 201/500 [02:21<03:28,  1.43iteration/s]\r",
      "Training:  40%|████      | 202/500 [02:22<03:27,  1.43iteration/s]\r",
      "Training:  41%|████      | 203/500 [02:23<03:26,  1.43iteration/s]\r",
      "Training:  41%|████      | 204/500 [02:24<03:26,  1.44iteration/s]\r",
      "Training:  41%|████      | 205/500 [02:24<03:24,  1.44iteration/s]\r",
      "Training:  41%|████      | 206/500 [02:25<03:24,  1.44iteration/s]\r",
      "Training:  41%|████▏     | 207/500 [02:26<03:23,  1.44iteration/s]\r",
      "Training:  42%|████▏     | 208/500 [02:26<03:23,  1.44iteration/s]\r",
      "Training:  42%|████▏     | 209/500 [02:27<03:22,  1.44iteration/s]\r",
      "Training:  42%|████▏     | 210/500 [02:28<03:22,  1.44iteration/s]\r",
      "Training:  42%|████▏     | 211/500 [02:28<03:21,  1.43iteration/s]\r",
      "Training:  42%|████▏     | 212/500 [02:29<03:22,  1.42iteration/s]\r",
      "Training:  43%|████▎     | 213/500 [02:30<03:21,  1.42iteration/s]\r",
      "Training:  43%|████▎     | 214/500 [02:31<03:20,  1.42iteration/s]\r",
      "Training:  43%|████▎     | 215/500 [02:31<03:19,  1.43iteration/s]\r",
      "Training:  43%|████▎     | 216/500 [02:32<03:23,  1.40iteration/s]\r",
      "Training:  43%|████▎     | 217/500 [02:33<03:21,  1.40iteration/s]\r",
      "Training:  44%|████▎     | 218/500 [02:33<03:20,  1.41iteration/s]\r",
      "Training:  44%|████▍     | 219/500 [02:34<03:18,  1.41iteration/s]\r",
      "Training:  44%|████▍     | 220/500 [02:35<03:17,  1.42iteration/s]\r",
      "Training:  44%|████▍     | 221/500 [02:35<03:16,  1.42iteration/s]\r",
      "Training:  44%|████▍     | 222/500 [02:36<03:15,  1.42iteration/s]\r",
      "Training:  45%|████▍     | 223/500 [02:37<03:15,  1.42iteration/s]\r",
      "Training:  45%|████▍     | 224/500 [02:38<03:13,  1.42iteration/s]\r",
      "Training:  45%|████▌     | 225/500 [02:38<03:13,  1.42iteration/s]\r",
      "Training:  45%|████▌     | 226/500 [02:39<03:27,  1.32iteration/s]\r",
      "Training:  45%|████▌     | 227/500 [02:40<03:21,  1.36iteration/s]\r",
      "Training:  46%|████▌     | 228/500 [02:41<03:17,  1.38iteration/s]\r",
      "Training:  46%|████▌     | 229/500 [02:41<03:14,  1.39iteration/s]\r",
      "Training:  46%|████▌     | 230/500 [02:42<03:12,  1.40iteration/s]\r",
      "Training:  46%|████▌     | 231/500 [02:43<03:11,  1.41iteration/s]\r",
      "Training:  46%|████▋     | 232/500 [02:43<03:09,  1.41iteration/s]\r",
      "Training:  47%|████▋     | 233/500 [02:44<03:07,  1.42iteration/s]\r",
      "Training:  47%|████▋     | 234/500 [02:45<03:06,  1.42iteration/s]\r",
      "Training:  47%|████▋     | 235/500 [02:46<03:09,  1.40iteration/s]\r",
      "Training:  47%|████▋     | 236/500 [02:46<03:07,  1.41iteration/s]\r",
      "Training:  47%|████▋     | 237/500 [02:47<03:06,  1.41iteration/s]\r",
      "Training:  48%|████▊     | 238/500 [02:48<03:05,  1.41iteration/s]\r",
      "Training:  48%|████▊     | 239/500 [02:48<03:04,  1.42iteration/s]\r",
      "Training:  48%|████▊     | 240/500 [02:49<03:03,  1.42iteration/s]\r",
      "Training:  48%|████▊     | 241/500 [02:50<03:02,  1.42iteration/s]\r",
      "Training:  48%|████▊     | 242/500 [02:50<03:02,  1.41iteration/s]\r",
      "Training:  49%|████▊     | 243/500 [02:51<03:01,  1.42iteration/s]\r",
      "Training:  49%|████▉     | 244/500 [02:52<03:00,  1.42iteration/s]\r",
      "Training:  49%|████▉     | 245/500 [02:53<02:59,  1.42iteration/s]\r",
      "Training:  49%|████▉     | 246/500 [02:53<02:58,  1.42iteration/s]\r",
      "Training:  49%|████▉     | 247/500 [02:54<02:57,  1.42iteration/s]\r",
      "Training:  50%|████▉     | 248/500 [02:55<02:56,  1.43iteration/s]\r",
      "Training:  50%|████▉     | 249/500 [02:55<02:55,  1.43iteration/s]\r",
      "Training:  50%|█████     | 250/500 [02:56<02:55,  1.43iteration/s]\r",
      "Training:  50%|█████     | 251/500 [02:57<02:56,  1.41iteration/s]\r",
      "Training:  50%|█████     | 252/500 [02:57<02:54,  1.42iteration/s]\r",
      "Training:  51%|█████     | 253/500 [02:58<02:53,  1.42iteration/s]\r",
      "Training:  51%|█████     | 254/500 [02:59<02:54,  1.41iteration/s]\r",
      "Training:  51%|█████     | 255/500 [03:00<02:52,  1.42iteration/s]\r",
      "Training:  51%|█████     | 256/500 [03:00<02:51,  1.43iteration/s]\r",
      "Training:  51%|█████▏    | 257/500 [03:01<02:50,  1.42iteration/s]\r",
      "Training:  52%|█████▏    | 258/500 [03:02<02:50,  1.42iteration/s]\r",
      "Training:  52%|█████▏    | 259/500 [03:02<02:49,  1.43iteration/s]\r",
      "Training:  52%|█████▏    | 260/500 [03:03<02:48,  1.43iteration/s]\r",
      "Training:  52%|█████▏    | 261/500 [03:04<02:47,  1.43iteration/s]\r",
      "Training:  52%|█████▏    | 262/500 [03:04<02:46,  1.43iteration/s]\r",
      "Training:  53%|█████▎    | 263/500 [03:05<02:45,  1.44iteration/s]\r",
      "Training:  53%|█████▎    | 264/500 [03:06<02:44,  1.43iteration/s]\r",
      "Training:  53%|█████▎    | 265/500 [03:07<02:43,  1.43iteration/s]\r",
      "Training:  53%|█████▎    | 266/500 [03:07<02:43,  1.43iteration/s]\r",
      "Training:  53%|█████▎    | 267/500 [03:08<02:43,  1.43iteration/s]\r",
      "Training:  54%|█████▎    | 268/500 [03:09<02:42,  1.43iteration/s]\r",
      "Training:  54%|█████▍    | 269/500 [03:09<02:42,  1.42iteration/s]\r",
      "Training:  54%|█████▍    | 270/500 [03:10<02:41,  1.42iteration/s]\r",
      "Training:  54%|█████▍    | 271/500 [03:11<02:41,  1.42iteration/s]\r",
      "Training:  54%|█████▍    | 272/500 [03:12<02:41,  1.41iteration/s]\r",
      "Training:  55%|█████▍    | 273/500 [03:12<02:40,  1.41iteration/s]\r",
      "Training:  55%|█████▍    | 274/500 [03:13<02:39,  1.42iteration/s]\r",
      "Training:  55%|█████▌    | 275/500 [03:14<02:38,  1.42iteration/s]\r",
      "Training:  55%|█████▌    | 276/500 [03:14<02:37,  1.43iteration/s]\r",
      "Training:  55%|█████▌    | 277/500 [03:15<02:38,  1.41iteration/s]\r",
      "Training:  56%|█████▌    | 278/500 [03:16<02:37,  1.41iteration/s]\r",
      "Training:  56%|█████▌    | 279/500 [03:16<02:36,  1.41iteration/s]\r",
      "Training:  56%|█████▌    | 280/500 [03:17<02:35,  1.41iteration/s]\r",
      "Training:  56%|█████▌    | 281/500 [03:18<02:34,  1.41iteration/s]\r",
      "Training:  56%|█████▋    | 282/500 [03:19<02:33,  1.42iteration/s]\r",
      "Training:  57%|█████▋    | 283/500 [03:19<02:32,  1.42iteration/s]\r",
      "Training:  57%|█████▋    | 284/500 [03:20<02:31,  1.42iteration/s]\r",
      "Training:  57%|█████▋    | 285/500 [03:21<02:31,  1.42iteration/s]\r",
      "Training:  57%|█████▋    | 286/500 [03:21<02:30,  1.42iteration/s]\r",
      "Training:  57%|█████▋    | 287/500 [03:22<02:30,  1.41iteration/s]\r",
      "Training:  58%|█████▊    | 288/500 [03:23<02:29,  1.42iteration/s]\r",
      "Training:  58%|█████▊    | 289/500 [03:24<02:28,  1.42iteration/s]\r",
      "Training:  58%|█████▊    | 290/500 [03:24<02:27,  1.43iteration/s]\r",
      "Training:  58%|█████▊    | 291/500 [03:25<02:26,  1.42iteration/s]\r",
      "Training:  58%|█████▊    | 292/500 [03:26<02:25,  1.43iteration/s]\r",
      "Training:  59%|█████▊    | 293/500 [03:26<02:25,  1.43iteration/s]\r",
      "Training:  59%|█████▉    | 294/500 [03:27<02:24,  1.42iteration/s]\r",
      "Training:  59%|█████▉    | 295/500 [03:28<02:24,  1.42iteration/s]\r",
      "Training:  59%|█████▉    | 296/500 [03:28<02:23,  1.42iteration/s]\r",
      "Training:  59%|█████▉    | 297/500 [03:29<02:24,  1.41iteration/s]\r",
      "Training:  60%|█████▉    | 298/500 [03:30<02:23,  1.41iteration/s]\r",
      "Training:  60%|█████▉    | 299/500 [03:31<02:22,  1.41iteration/s]\r",
      "Training:  60%|██████    | 300/500 [03:31<02:21,  1.41iteration/s]\r",
      "Training:  60%|██████    | 301/500 [03:32<02:20,  1.41iteration/s]\r",
      "Training:  60%|██████    | 302/500 [03:33<02:19,  1.42iteration/s]\r",
      "Training:  61%|██████    | 303/500 [03:33<02:19,  1.41iteration/s]\r",
      "Training:  61%|██████    | 304/500 [03:34<02:17,  1.42iteration/s]\r",
      "Training:  61%|██████    | 305/500 [03:35<02:16,  1.42iteration/s]\r",
      "Training:  61%|██████    | 306/500 [03:35<02:15,  1.43iteration/s]\r",
      "Training:  61%|██████▏   | 307/500 [03:36<02:15,  1.43iteration/s]\r",
      "Training:  62%|██████▏   | 308/500 [03:37<02:14,  1.43iteration/s]\r",
      "Training:  62%|██████▏   | 309/500 [03:38<02:14,  1.43iteration/s]\r",
      "Training:  62%|██████▏   | 310/500 [03:38<02:13,  1.42iteration/s]\r",
      "Training:  62%|██████▏   | 311/500 [03:39<02:12,  1.42iteration/s]\r",
      "Training:  62%|██████▏   | 312/500 [03:40<02:11,  1.43iteration/s]\r",
      "Training:  63%|██████▎   | 313/500 [03:40<02:10,  1.43iteration/s]\r",
      "Training:  63%|██████▎   | 314/500 [03:41<02:10,  1.43iteration/s]\r",
      "Training:  63%|██████▎   | 315/500 [03:42<02:11,  1.41iteration/s]\r",
      "Training:  63%|██████▎   | 316/500 [03:43<02:10,  1.41iteration/s]\r",
      "Training:  63%|██████▎   | 317/500 [03:43<02:09,  1.41iteration/s]\r",
      "Training:  64%|██████▎   | 318/500 [03:44<02:10,  1.40iteration/s]\r",
      "Training:  64%|██████▍   | 319/500 [03:45<02:09,  1.39iteration/s]\r",
      "Training:  64%|██████▍   | 320/500 [03:45<02:10,  1.38iteration/s]\r",
      "Training:  64%|██████▍   | 321/500 [03:46<02:09,  1.38iteration/s]\r",
      "Training:  64%|██████▍   | 322/500 [03:47<02:09,  1.37iteration/s]\r",
      "Training:  65%|██████▍   | 323/500 [03:48<02:08,  1.38iteration/s]\r",
      "Training:  65%|██████▍   | 324/500 [03:48<02:07,  1.38iteration/s]\r",
      "Training:  65%|██████▌   | 325/500 [03:49<02:06,  1.38iteration/s]\r",
      "Training:  65%|██████▌   | 326/500 [03:50<02:05,  1.39iteration/s]\r",
      "Training:  65%|██████▌   | 327/500 [03:50<02:03,  1.40iteration/s]\r",
      "Training:  66%|██████▌   | 328/500 [03:51<02:02,  1.40iteration/s]\r",
      "Training:  66%|██████▌   | 329/500 [03:52<02:01,  1.41iteration/s]\r",
      "Training:  66%|██████▌   | 330/500 [03:53<02:00,  1.41iteration/s]\r",
      "Training:  66%|██████▌   | 331/500 [03:53<01:59,  1.41iteration/s]\r",
      "Training:  66%|██████▋   | 332/500 [03:54<01:58,  1.41iteration/s]\r",
      "Training:  67%|██████▋   | 333/500 [03:55<01:57,  1.42iteration/s]\r",
      "Training:  67%|██████▋   | 334/500 [03:55<01:56,  1.42iteration/s]\r",
      "Training:  67%|██████▋   | 335/500 [03:56<01:55,  1.43iteration/s]\r",
      "Training:  67%|██████▋   | 336/500 [03:57<01:55,  1.42iteration/s]\r",
      "Training:  67%|██████▋   | 337/500 [03:57<01:54,  1.42iteration/s]\r",
      "Training:  68%|██████▊   | 338/500 [03:58<01:53,  1.42iteration/s]\r",
      "Training:  68%|██████▊   | 339/500 [03:59<01:52,  1.43iteration/s]\r",
      "Training:  68%|██████▊   | 340/500 [04:00<01:51,  1.43iteration/s]\r",
      "Training:  68%|██████▊   | 341/500 [04:00<01:50,  1.43iteration/s]\r",
      "Training:  68%|██████▊   | 342/500 [04:01<01:50,  1.43iteration/s]\r",
      "Training:  69%|██████▊   | 343/500 [04:02<01:50,  1.43iteration/s]\r",
      "Training:  69%|██████▉   | 344/500 [04:02<01:49,  1.42iteration/s]\r",
      "Training:  69%|██████▉   | 345/500 [04:03<01:48,  1.43iteration/s]\r",
      "Training:  69%|██████▉   | 346/500 [04:04<01:47,  1.43iteration/s]\r",
      "Training:  69%|██████▉   | 347/500 [04:04<01:46,  1.43iteration/s]\r",
      "Training:  70%|██████▉   | 348/500 [04:05<01:45,  1.43iteration/s]\r",
      "Training:  70%|██████▉   | 349/500 [04:06<01:45,  1.44iteration/s]\r",
      "Training:  70%|███████   | 350/500 [04:07<01:44,  1.44iteration/s]\r",
      "Training:  70%|███████   | 351/500 [04:07<01:43,  1.44iteration/s]\r",
      "Training:  70%|███████   | 352/500 [04:08<01:42,  1.44iteration/s]\r",
      "Training:  71%|███████   | 353/500 [04:09<01:41,  1.44iteration/s]\r",
      "Training:  71%|███████   | 354/500 [04:09<01:41,  1.44iteration/s]\r",
      "Training:  71%|███████   | 355/500 [04:10<01:41,  1.43iteration/s]\r",
      "Training:  71%|███████   | 356/500 [04:11<01:40,  1.44iteration/s]\r",
      "Training:  71%|███████▏  | 357/500 [04:11<01:39,  1.44iteration/s]\r",
      "Training:  72%|███████▏  | 358/500 [04:12<01:39,  1.43iteration/s]\r",
      "Training:  72%|███████▏  | 359/500 [04:13<01:38,  1.43iteration/s]\r",
      "Training:  72%|███████▏  | 360/500 [04:14<01:37,  1.43iteration/s]\r",
      "Training:  72%|███████▏  | 361/500 [04:14<01:37,  1.42iteration/s]\r",
      "Training:  72%|███████▏  | 362/500 [04:15<01:36,  1.42iteration/s]\r",
      "Training:  73%|███████▎  | 363/500 [04:16<01:36,  1.42iteration/s]\r",
      "Training:  73%|███████▎  | 364/500 [04:16<01:35,  1.43iteration/s]\r",
      "Training:  73%|███████▎  | 365/500 [04:17<01:34,  1.42iteration/s]\r",
      "Training:  73%|███████▎  | 366/500 [04:18<01:34,  1.42iteration/s]\r",
      "Training:  73%|███████▎  | 367/500 [04:18<01:33,  1.42iteration/s]\r",
      "Training:  74%|███████▎  | 368/500 [04:19<01:32,  1.43iteration/s]\r",
      "Training:  74%|███████▍  | 369/500 [04:20<01:31,  1.43iteration/s]\r",
      "Training:  74%|███████▍  | 370/500 [04:21<01:31,  1.43iteration/s]\r",
      "Training:  74%|███████▍  | 371/500 [04:21<01:30,  1.43iteration/s]\r",
      "Training:  74%|███████▍  | 372/500 [04:22<01:30,  1.42iteration/s]\r",
      "Training:  75%|███████▍  | 373/500 [04:23<01:29,  1.43iteration/s]\r",
      "Training:  75%|███████▍  | 374/500 [04:23<01:28,  1.43iteration/s]\r",
      "Training:  75%|███████▌  | 375/500 [04:24<01:27,  1.43iteration/s]\r",
      "Training:  75%|███████▌  | 376/500 [04:25<01:26,  1.43iteration/s]\r",
      "Training:  75%|███████▌  | 377/500 [04:25<01:25,  1.44iteration/s]\r",
      "Training:  76%|███████▌  | 378/500 [04:26<01:25,  1.43iteration/s]\r",
      "Training:  76%|███████▌  | 379/500 [04:27<01:25,  1.41iteration/s]\r",
      "Training:  76%|███████▌  | 380/500 [04:28<01:24,  1.42iteration/s]\r",
      "Training:  76%|███████▌  | 381/500 [04:28<01:23,  1.42iteration/s]\r",
      "Training:  76%|███████▋  | 382/500 [04:29<01:22,  1.42iteration/s]\r",
      "Training:  77%|███████▋  | 383/500 [04:30<01:22,  1.43iteration/s]\r",
      "Training:  77%|███████▋  | 384/500 [04:30<01:21,  1.43iteration/s]\r",
      "Training:  77%|███████▋  | 385/500 [04:31<01:20,  1.43iteration/s]\r",
      "Training:  77%|███████▋  | 386/500 [04:32<01:20,  1.42iteration/s]\r",
      "Training:  77%|███████▋  | 387/500 [04:33<01:19,  1.42iteration/s]\r",
      "Training:  78%|███████▊  | 388/500 [04:33<01:18,  1.42iteration/s]\r",
      "Training:  78%|███████▊  | 389/500 [04:34<01:18,  1.42iteration/s]\r",
      "Training:  78%|███████▊  | 390/500 [04:35<01:17,  1.42iteration/s]\r",
      "Training:  78%|███████▊  | 391/500 [04:35<01:16,  1.42iteration/s]\r",
      "Training:  78%|███████▊  | 392/500 [04:36<01:15,  1.43iteration/s]\r",
      "Training:  79%|███████▊  | 393/500 [04:37<01:15,  1.42iteration/s]\r",
      "Training:  79%|███████▉  | 394/500 [04:37<01:14,  1.43iteration/s]\r",
      "Training:  79%|███████▉  | 395/500 [04:38<01:13,  1.43iteration/s]\r",
      "Training:  79%|███████▉  | 396/500 [04:39<01:12,  1.44iteration/s]\r",
      "Training:  79%|███████▉  | 397/500 [04:40<01:11,  1.44iteration/s]\r",
      "Training:  80%|███████▉  | 398/500 [04:40<01:10,  1.44iteration/s]\r",
      "Training:  80%|███████▉  | 399/500 [04:41<01:10,  1.43iteration/s]\r",
      "Training:  80%|████████  | 400/500 [04:42<01:09,  1.43iteration/s]\r",
      "Training:  80%|████████  | 401/500 [04:42<01:09,  1.43iteration/s]\r",
      "Training:  80%|████████  | 402/500 [04:43<01:08,  1.42iteration/s]\r",
      "Training:  81%|████████  | 403/500 [04:44<01:09,  1.39iteration/s]\r",
      "Training:  81%|████████  | 404/500 [04:44<01:08,  1.41iteration/s]\r",
      "Training:  81%|████████  | 405/500 [04:45<01:07,  1.40iteration/s]\r",
      "Training:  81%|████████  | 406/500 [04:46<01:06,  1.41iteration/s]\r",
      "Training:  81%|████████▏ | 407/500 [04:47<01:05,  1.41iteration/s]\r",
      "Training:  82%|████████▏ | 408/500 [04:47<01:05,  1.41iteration/s]\r",
      "Training:  82%|████████▏ | 409/500 [04:48<01:04,  1.42iteration/s]\r",
      "Training:  82%|████████▏ | 410/500 [04:49<01:03,  1.42iteration/s]\r",
      "Training:  82%|████████▏ | 411/500 [04:49<01:02,  1.42iteration/s]\r",
      "Training:  82%|████████▏ | 412/500 [04:50<01:01,  1.42iteration/s]\r",
      "Training:  83%|████████▎ | 413/500 [04:51<01:01,  1.42iteration/s]\r",
      "Training:  83%|████████▎ | 414/500 [04:52<01:00,  1.42iteration/s]\r",
      "Training:  83%|████████▎ | 415/500 [04:52<00:59,  1.42iteration/s]\r",
      "Training:  83%|████████▎ | 416/500 [04:53<00:58,  1.42iteration/s]\r",
      "Training:  83%|████████▎ | 417/500 [04:54<00:58,  1.43iteration/s]\r",
      "Training:  84%|████████▎ | 418/500 [04:54<00:57,  1.43iteration/s]\r",
      "Training:  84%|████████▍ | 419/500 [04:55<00:56,  1.43iteration/s]\r",
      "Training:  84%|████████▍ | 420/500 [04:56<00:55,  1.43iteration/s]\r",
      "Training:  84%|████████▍ | 421/500 [04:56<00:55,  1.43iteration/s]\r",
      "Training:  84%|████████▍ | 422/500 [04:57<00:54,  1.43iteration/s]\r",
      "Training:  85%|████████▍ | 423/500 [04:58<00:54,  1.42iteration/s]\r",
      "Training:  85%|████████▍ | 424/500 [04:59<00:53,  1.42iteration/s]\r",
      "Training:  85%|████████▌ | 425/500 [04:59<00:53,  1.41iteration/s]\r",
      "Training:  85%|████████▌ | 426/500 [05:00<00:52,  1.42iteration/s]\r",
      "Training:  85%|████████▌ | 427/500 [05:01<00:51,  1.42iteration/s]\r",
      "Training:  86%|████████▌ | 428/500 [05:01<00:50,  1.42iteration/s]\r",
      "Training:  86%|████████▌ | 429/500 [05:02<00:50,  1.42iteration/s]\r",
      "Training:  86%|████████▌ | 430/500 [05:03<00:49,  1.42iteration/s]\r",
      "Training:  86%|████████▌ | 431/500 [05:03<00:48,  1.42iteration/s]\r",
      "Training:  86%|████████▋ | 432/500 [05:04<00:47,  1.42iteration/s]\r",
      "Training:  87%|████████▋ | 433/500 [05:05<00:47,  1.42iteration/s]\r",
      "Training:  87%|████████▋ | 434/500 [05:06<00:46,  1.43iteration/s]\r",
      "Training:  87%|████████▋ | 435/500 [05:06<00:45,  1.42iteration/s]\r",
      "Training:  87%|████████▋ | 436/500 [05:07<00:45,  1.42iteration/s]\r",
      "Training:  87%|████████▋ | 437/500 [05:08<00:44,  1.42iteration/s]\r",
      "Training:  88%|████████▊ | 438/500 [05:08<00:43,  1.43iteration/s]\r",
      "Training:  88%|████████▊ | 439/500 [05:09<00:42,  1.43iteration/s]\r",
      "Training:  88%|████████▊ | 440/500 [05:10<00:42,  1.43iteration/s]\r",
      "Training:  88%|████████▊ | 441/500 [05:10<00:41,  1.43iteration/s]\r",
      "Training:  88%|████████▊ | 442/500 [05:11<00:40,  1.43iteration/s]\r",
      "Training:  89%|████████▊ | 443/500 [05:12<00:40,  1.42iteration/s]\r",
      "Training:  89%|████████▉ | 444/500 [05:13<00:39,  1.42iteration/s]\r",
      "Training:  89%|████████▉ | 445/500 [05:13<00:38,  1.43iteration/s]\r",
      "Training:  89%|████████▉ | 446/500 [05:14<00:37,  1.43iteration/s]\r",
      "Training:  89%|████████▉ | 447/500 [05:15<00:37,  1.43iteration/s]\r",
      "Training:  90%|████████▉ | 448/500 [05:15<00:36,  1.43iteration/s]\r",
      "Training:  90%|████████▉ | 449/500 [05:16<00:35,  1.43iteration/s]\r",
      "Training:  90%|█████████ | 450/500 [05:17<00:35,  1.41iteration/s]\r",
      "Training:  90%|█████████ | 451/500 [05:18<00:34,  1.42iteration/s]\r",
      "Training:  90%|█████████ | 452/500 [05:18<00:33,  1.42iteration/s]\r",
      "Training:  91%|█████████ | 453/500 [05:19<00:32,  1.43iteration/s]\r",
      "Training:  91%|█████████ | 454/500 [05:20<00:32,  1.43iteration/s]\r",
      "Training:  91%|█████████ | 455/500 [05:20<00:31,  1.43iteration/s]\r",
      "Training:  91%|█████████ | 456/500 [05:21<00:30,  1.43iteration/s]\r",
      "Training:  91%|█████████▏| 457/500 [05:22<00:30,  1.43iteration/s]\r",
      "Training:  92%|█████████▏| 458/500 [05:22<00:29,  1.43iteration/s]\r",
      "Training:  92%|█████████▏| 459/500 [05:23<00:28,  1.43iteration/s]\r",
      "Training:  92%|█████████▏| 460/500 [05:24<00:27,  1.43iteration/s]\r",
      "Training:  92%|█████████▏| 461/500 [05:24<00:27,  1.44iteration/s]\r",
      "Training:  92%|█████████▏| 462/500 [05:25<00:26,  1.43iteration/s]\r",
      "Training:  93%|█████████▎| 463/500 [05:26<00:25,  1.43iteration/s]\r",
      "Training:  93%|█████████▎| 464/500 [05:27<00:25,  1.43iteration/s]\r",
      "Training:  93%|█████████▎| 465/500 [05:27<00:24,  1.42iteration/s]\r",
      "Training:  93%|█████████▎| 466/500 [05:28<00:23,  1.42iteration/s]\r",
      "Training:  93%|█████████▎| 467/500 [05:29<00:23,  1.40iteration/s]\r",
      "Training:  94%|█████████▎| 468/500 [05:29<00:22,  1.41iteration/s]\r",
      "Training:  94%|█████████▍| 469/500 [05:30<00:21,  1.42iteration/s]\r",
      "Training:  94%|█████████▍| 470/500 [05:31<00:21,  1.42iteration/s]\r",
      "Training:  94%|█████████▍| 471/500 [05:32<00:20,  1.42iteration/s]\r",
      "Training:  94%|█████████▍| 472/500 [05:32<00:19,  1.42iteration/s]\r",
      "Training:  95%|█████████▍| 473/500 [05:33<00:19,  1.42iteration/s]\r",
      "Training:  95%|█████████▍| 474/500 [05:34<00:18,  1.42iteration/s]\r",
      "Training:  95%|█████████▌| 475/500 [05:34<00:17,  1.43iteration/s]\r",
      "Training:  95%|█████████▌| 476/500 [05:35<00:16,  1.43iteration/s]\r",
      "Training:  95%|█████████▌| 477/500 [05:36<00:16,  1.43iteration/s]\r",
      "Training:  96%|█████████▌| 478/500 [05:37<00:15,  1.39iteration/s]\r",
      "Training:  96%|█████████▌| 479/500 [05:37<00:15,  1.39iteration/s]\r",
      "Training:  96%|█████████▌| 480/500 [05:38<00:14,  1.41iteration/s]\r",
      "Training:  96%|█████████▌| 481/500 [05:39<00:13,  1.41iteration/s]\r",
      "Training:  96%|█████████▋| 482/500 [05:39<00:12,  1.42iteration/s]\r",
      "Training:  97%|█████████▋| 483/500 [05:40<00:11,  1.43iteration/s]\r",
      "Training:  97%|█████████▋| 484/500 [05:41<00:11,  1.43iteration/s]\r",
      "Training:  97%|█████████▋| 485/500 [05:41<00:10,  1.43iteration/s]\r",
      "Training:  97%|█████████▋| 486/500 [05:42<00:09,  1.43iteration/s]\r",
      "Training:  97%|█████████▋| 487/500 [05:43<00:09,  1.43iteration/s]\r",
      "Training:  98%|█████████▊| 488/500 [05:44<00:08,  1.43iteration/s]\r",
      "Training:  98%|█████████▊| 489/500 [05:44<00:07,  1.43iteration/s]\r",
      "Training:  98%|█████████▊| 490/500 [05:45<00:06,  1.43iteration/s]\r",
      "Training:  98%|█████████▊| 491/500 [05:46<00:06,  1.42iteration/s]\r",
      "Training:  98%|█████████▊| 492/500 [05:46<00:05,  1.43iteration/s]\r",
      "Training:  99%|█████████▊| 493/500 [05:47<00:04,  1.42iteration/s]\r",
      "Training:  99%|█████████▉| 494/500 [05:48<00:04,  1.43iteration/s]\r",
      "Training:  99%|█████████▉| 495/500 [05:48<00:03,  1.42iteration/s]\r",
      "Training:  99%|█████████▉| 496/500 [05:49<00:02,  1.42iteration/s]\r",
      "Training:  99%|█████████▉| 497/500 [05:50<00:02,  1.41iteration/s]\r",
      "Training: 100%|█████████▉| 498/500 [05:51<00:01,  1.40iteration/s]\r",
      "Training: 100%|█████████▉| 499/500 [05:51<00:00,  1.40iteration/s]\r",
      "Training: 100%|██████████| 500/500 [05:52<00:00,  1.40iteration/s]\r",
      "Training: 100%|██████████| 500/500 [05:52<00:00,  1.42iteration/s]\n"
     ]
    }
   ],
   "source": [
    "# Initialize learning rate and maximum iterations\n",
    "learning_rate = 0.31101\n",
    "max_iterations = 500\n",
    "\n",
    "# Train the model\n",
    "weights, bias = train_multinomial_logistic_regression(X_train, y_train, learning_rate, max_iterations)"
   ]
  },
  {
   "cell_type": "markdown",
   "metadata": {
    "id": "PO4I6kCz0Wpw"
   },
   "source": [
    "## Task 16: Test the Model\n",
    "\n",
    "In this task, you’ll use the predict() function with the updated weights and bias from the last task to predict the class labels for the test data. \n",
    "The predict() function will compute the scores and probabilities for each sample in the test data and return the predicted class labels.\n",
    "\n",
    "To complete this task, follow the given steps:\n",
    "\n",
    "1. Invoke the predict() function using the test data and store the predicted class labels as y_pred.\n",
    "    \n",
    "2. Print y_pred, the predicted class labels for the test data.\n"
   ]
  },
  {
   "cell_type": "code",
   "execution_count": 24,
   "metadata": {
    "colab": {
     "background_save": true
    },
    "id": "-n4fK7I80bRG"
   },
   "outputs": [
    {
     "name": "stdout",
     "output_type": "stream",
     "text": [
      "[0 2 2 ... 0 1 1]\n"
     ]
    }
   ],
   "source": [
    "# Test the model\n",
    "y_pred = predict(X_test, weights, bias)\n",
    "\n",
    "# Print the predicted class labels\n",
    "print(y_pred)"
   ]
  },
  {
   "cell_type": "code",
   "execution_count": 26,
   "metadata": {},
   "outputs": [
    {
     "data": {
      "text/plain": [
       "1    511\n",
       "0    345\n",
       "2    344\n",
       "Name: count, dtype: int64"
      ]
     },
     "execution_count": 26,
     "metadata": {},
     "output_type": "execute_result"
    }
   ],
   "source": [
    "pd.Series(y_pred).value_counts()"
   ]
  },
  {
   "cell_type": "markdown",
   "metadata": {
    "id": "-AjfowMRmZwx"
   },
   "source": [
    "## Task 17: Generate the Confusion Matrix and Classification Report\n",
    "\n",
    "In this task, generate a confusion matrix based on the true and predicted labels. Furthermore, you’ll print a classification report that summarizes \n",
    "the performance of the multinomial logistic regression model on the test data. This report will include metrics for each class label,\n",
    "providing insights into precision, recall, F1-score, and support.\n",
    "\n",
    "Follow the given steps to complete this task:\n",
    "\n",
    "1. Generate a confusion matrix based on the true labels, y_test, and the predicted labels, y_pred, obtained from the multinomial logistic regression\n",
    "model.\n",
    "\n",
    "2. Plot the confusion matrix.\n",
    "\n",
    "3. Generate a classification report using the true labels, y_test, and the predicted labels, y_pred.\n",
    "\n",
    "4. Print the classification report.\n",
    "\n"
   ]
  },
  {
   "cell_type": "code",
   "execution_count": 27,
   "metadata": {
    "colab": {
     "background_save": true
    },
    "id": "wYAva2Re4YKu"
   },
   "outputs": [
    {
     "data": {
      "image/png": "[encoded data removed]",
      "text/plain": [
       "<Figure size 640x480 with 2 Axes>"
      ]
     },
     "metadata": {},
     "output_type": "display_data"
    },
    {
     "name": "stdout",
     "output_type": "stream",
     "text": [
      "              precision    recall  f1-score   support\n",
      "\n",
      "    Positive       0.63      0.54      0.58       400\n",
      "    Negative       0.47      0.60      0.52       400\n",
      "     Neutral       0.62      0.54      0.58       400\n",
      "\n",
      "    accuracy                           0.56      1200\n",
      "   macro avg       0.57      0.56      0.56      1200\n",
      "weighted avg       0.57      0.56      0.56      1200\n",
      "\n"
     ]
    }
   ],
   "source": [
    "# Generate a confusion matrix\n",
    "cm = confusion_matrix(y_test, y_pred)\n",
    "\n",
    "# Plot the confusion matrix\n",
    "labels = [\"Positive\", \"Negative\", \"Neutral\"]\n",
    "disp = ConfusionMatrixDisplay(confusion_matrix=cm, display_labels=labels)\n",
    "disp.plot()\n",
    "plt.show()\n",
    "\n",
    "## Generate a classification report\n",
    "print(classification_report(y_test, y_pred, target_names=['Positive', 'Negative', 'Neutral']))"
   ]
  },
  {
   "cell_type": "code",
   "execution_count": null,
   "metadata": {},
   "outputs": [],
   "source": []
  }
 ],
 "metadata": {
  "accelerator": "GPU",
  "colab": {
   "gpuType": "T4",
   "provenance": [
    {
     "file_id": "1i5MgXs8N1kzz7cmSf0yUGVFcZKqpopeZ",
     "timestamp": 1684430188484
    },
    {
     "file_id": "1kglHaNMqI8RJ2xs6Ki0CQbuhQw_Hq0_y",
     "timestamp": 1684429013404
    }
   ]
  },
  "gpuClass": "standard",
  "kernelspec": {
   "display_name": "Python 3 (ipykernel)",
   "language": "python",
   "name": "python3"
  },
  "language_info": {
   "codemirror_mode": {
    "name": "ipython",
    "version": 3
   },
   "file_extension": ".py",
   "mimetype": "text/x-python",
   "name": "python",
   "nbconvert_exporter": "python",
   "pygments_lexer": "ipython3",
   "version": "3.11.7"
  },
  "vscode": {
   "interpreter": {
    "hash": "e7370f93d1d0cde622a1f8e1c04877d8463912d04d973331ad4851f04de6915a"
   }
  }
 },
 "nbformat": 4,
 "nbformat_minor": 4
}
